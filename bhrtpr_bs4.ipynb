{
 "cells": [
  {
   "cell_type": "markdown",
   "id": "41b3433d",
   "metadata": {},
   "source": [
    "This project is intended to collect the <b>contact details of Bharatpur Metropolitan authorities</b>. It was done to familiarize <b>BIM 5th-semester</b> students with web scraping.\n",
    "\n",
    "Required Libraries\n",
    "* beautifulSoup\n",
    "* requests\n",
    "* pandas\n",
    "\n",
    "If these libraries are not already installed on your device, then install them using the following command:<br>\n",
    "pip install beautifulsoup4 requests"
   ]
  },
  {
   "cell_type": "code",
   "execution_count": 1,
   "id": "0073034d",
   "metadata": {},
   "outputs": [],
   "source": [
    "# To parse the webpage\n",
    "from bs4 import BeautifulSoup\n",
    "\n",
    "# To fetch the webpage\n",
    "import requests\n",
    "\n",
    "# To save the file\n",
    "import pandas as pd"
   ]
  },
  {
   "cell_type": "code",
   "execution_count": null,
   "id": "d3644469",
   "metadata": {},
   "outputs": [],
   "source": [
    "# URL of that website from where we want to scrap the details\n",
    "url='https://bharatpurmun.gov.np/en'\n",
    "\n",
    "# Fetching the webpage\n",
    "page=requests.get(url)\n",
    "\n",
    "# Converting the webpage into clear and readable format\n",
    "soup=BeautifulSoup(page.text,'html')"
   ]
  },
  {
   "cell_type": "code",
   "execution_count": null,
   "id": "e0fd8d0b",
   "metadata": {},
   "outputs": [],
   "source": [
    "print(soup)"
   ]
  },
  {
   "cell_type": "code",
   "execution_count": 4,
   "id": "d9933fcf",
   "metadata": {},
   "outputs": [],
   "source": [
    "# Search table in webpage\n",
    "table=soup.find('table')"
   ]
  },
  {
   "cell_type": "code",
   "execution_count": 5,
   "id": "43884e59",
   "metadata": {},
   "outputs": [],
   "source": [
    "# Creating an empty list to store the data\n",
    "data=[]"
   ]
  },
  {
   "cell_type": "code",
   "execution_count": null,
   "id": "cfb41dff",
   "metadata": {},
   "outputs": [],
   "source": [
    "print(table)"
   ]
  },
  {
   "cell_type": "code",
   "execution_count": null,
   "id": "52c7516d",
   "metadata": {},
   "outputs": [],
   "source": [
    "# Finding all the rows in table\n",
    "row= table.find_all('tr')\n",
    "\n",
    "row"
   ]
  },
  {
   "cell_type": "code",
   "execution_count": 8,
   "id": "547d6bda",
   "metadata": {},
   "outputs": [],
   "source": [
    "for x in row:\n",
    "    # Creating a list to store each row's data\n",
    "    rowdata=[]\n",
    "    \n",
    "    #Finding columns in the row\n",
    "    value= x.find_all('td')\n",
    "    \n",
    "    for y in value:\n",
    "        # Extracting and cleaning text\n",
    "        rowdata.append(y.text.lstrip().rstrip())\n",
    "\n",
    "    if rowdata:\n",
    "        # Adding row data to main list i.e 'data'\n",
    "        data.append(rowdata)"
   ]
  },
  {
   "cell_type": "code",
   "execution_count": 9,
   "id": "2e758227",
   "metadata": {},
   "outputs": [
    {
     "data": {
      "text/html": [
       "<div>\n",
       "<style scoped>\n",
       "    .dataframe tbody tr th:only-of-type {\n",
       "        vertical-align: middle;\n",
       "    }\n",
       "\n",
       "    .dataframe tbody tr th {\n",
       "        vertical-align: top;\n",
       "    }\n",
       "\n",
       "    .dataframe thead th {\n",
       "        text-align: right;\n",
       "    }\n",
       "</style>\n",
       "<table border=\"1\" class=\"dataframe\">\n",
       "  <thead>\n",
       "    <tr style=\"text-align: right;\">\n",
       "      <th></th>\n",
       "      <th>0</th>\n",
       "      <th>1</th>\n",
       "      <th>2</th>\n",
       "      <th>3</th>\n",
       "      <th>4</th>\n",
       "    </tr>\n",
       "  </thead>\n",
       "  <tbody>\n",
       "    <tr>\n",
       "      <th>0</th>\n",
       "      <td>S.N.</td>\n",
       "      <td>People's Representative</td>\n",
       "      <td>Designation</td>\n",
       "      <td>Contact-1</td>\n",
       "      <td>Contact-2</td>\n",
       "    </tr>\n",
       "    <tr>\n",
       "      <th>1</th>\n",
       "      <td>1.</td>\n",
       "      <td>Renu Dahal</td>\n",
       "      <td>Mayor</td>\n",
       "      <td>9855011311</td>\n",
       "      <td>.</td>\n",
       "    </tr>\n",
       "    <tr>\n",
       "      <th>2</th>\n",
       "      <td>2.</td>\n",
       "      <td>Chitrasen Adhikari</td>\n",
       "      <td>Deputy-Mayor</td>\n",
       "      <td>9855050962</td>\n",
       "      <td>9855092300</td>\n",
       "    </tr>\n",
       "    <tr>\n",
       "      <th>3</th>\n",
       "      <td>Ward\\nNo.</td>\n",
       "      <td>People's Representative</td>\n",
       "      <td>Designation</td>\n",
       "      <td>Contact-1</td>\n",
       "      <td>Contact-2</td>\n",
       "    </tr>\n",
       "    <tr>\n",
       "      <th>4</th>\n",
       "      <td>1.</td>\n",
       "      <td>Keshav Maharjan</td>\n",
       "      <td>Chairperson</td>\n",
       "      <td>9855055280</td>\n",
       "      <td>9855092301</td>\n",
       "    </tr>\n",
       "    <tr>\n",
       "      <th>5</th>\n",
       "      <td>2.</td>\n",
       "      <td>Manoj Rana Bhat</td>\n",
       "      <td>Chairperson</td>\n",
       "      <td>9855058053</td>\n",
       "      <td>9855092302</td>\n",
       "    </tr>\n",
       "    <tr>\n",
       "      <th>6</th>\n",
       "      <td>3.</td>\n",
       "      <td>Bikash Thapa</td>\n",
       "      <td>Chairperson</td>\n",
       "      <td>9855060880</td>\n",
       "      <td>9855092303</td>\n",
       "    </tr>\n",
       "    <tr>\n",
       "      <th>7</th>\n",
       "      <td>4.</td>\n",
       "      <td>Arpan Pokharel</td>\n",
       "      <td>Chairperson</td>\n",
       "      <td>9855053125</td>\n",
       "      <td>9855092304</td>\n",
       "    </tr>\n",
       "    <tr>\n",
       "      <th>8</th>\n",
       "      <td>5.</td>\n",
       "      <td>Yuddha Prasad Shrestha</td>\n",
       "      <td>Chairperson</td>\n",
       "      <td>9845081254</td>\n",
       "      <td>9855092305</td>\n",
       "    </tr>\n",
       "    <tr>\n",
       "      <th>9</th>\n",
       "      <td>6.</td>\n",
       "      <td>Krishna Lal Shrestha</td>\n",
       "      <td>Chairperson</td>\n",
       "      <td>9855038889</td>\n",
       "      <td>9855092306</td>\n",
       "    </tr>\n",
       "  </tbody>\n",
       "</table>\n",
       "</div>"
      ],
      "text/plain": [
       "           0                        1             2           3           4\n",
       "0       S.N.  People's Representative   Designation   Contact-1   Contact-2\n",
       "1         1.               Renu Dahal         Mayor  9855011311           .\n",
       "2         2.       Chitrasen Adhikari  Deputy-Mayor  9855050962  9855092300\n",
       "3  Ward\\nNo.  People's Representative   Designation   Contact-1   Contact-2\n",
       "4         1.          Keshav Maharjan   Chairperson  9855055280  9855092301\n",
       "5         2.          Manoj Rana Bhat   Chairperson  9855058053  9855092302\n",
       "6         3.             Bikash Thapa   Chairperson  9855060880  9855092303\n",
       "7         4.           Arpan Pokharel   Chairperson  9855053125  9855092304\n",
       "8         5.   Yuddha Prasad Shrestha   Chairperson  9845081254  9855092305\n",
       "9         6.     Krishna Lal Shrestha   Chairperson  9855038889  9855092306"
      ]
     },
     "execution_count": 9,
     "metadata": {},
     "output_type": "execute_result"
    }
   ],
   "source": [
    "# Converting list into a pandas dataframe (a table)\n",
    "dataset= pd.DataFrame(data)\n",
    "\n",
    "# Saving this table as an excel file\n",
    "dataset.to_excel(\"contact_details.xlsx\")\n",
    "\n",
    "# Extract initial 10 data fom the dataframe\n",
    "dataset.head(10)"
   ]
  },
  {
   "cell_type": "code",
   "execution_count": null,
   "id": "e23e4ed7",
   "metadata": {},
   "outputs": [],
   "source": []
  }
 ],
 "metadata": {
  "kernelspec": {
   "display_name": "base",
   "language": "python",
   "name": "python3"
  },
  "language_info": {
   "codemirror_mode": {
    "name": "ipython",
    "version": 3
   },
   "file_extension": ".py",
   "mimetype": "text/x-python",
   "name": "python",
   "nbconvert_exporter": "python",
   "pygments_lexer": "ipython3",
   "version": "3.12.4"
  }
 },
 "nbformat": 4,
 "nbformat_minor": 5
}
